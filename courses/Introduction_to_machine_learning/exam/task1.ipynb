{
 "cells": [
  {
   "cell_type": "code",
   "execution_count": 1,
   "metadata": {
    "collapsed": true
   },
   "outputs": [
    {
     "name": "stdout",
     "output_type": "stream",
     "text": [
      "0    8\n",
      "1    7\n",
      "2    7\n",
      "3    4\n",
      "4    3\n",
      "dtype: int64\n"
     ]
    },
    {
     "data": {
      "text/plain": "array([1. , 0.8, 0.8, 0.2, 0. ])"
     },
     "execution_count": 1,
     "metadata": {},
     "output_type": "execute_result"
    }
   ],
   "source": [
    "import pandas as pd\n",
    "import numpy as np\n",
    "from pandas.tests.groupby.test_value_counts import df\n",
    "from sklearn import preprocessing\n",
    "from sklearn.linear_model import LinearRegression\n",
    "from sklearn.neighbors import KNeighborsClassifier\n",
    "import math\n",
    "\n",
    "# линейная нормировка (1 задание)\n",
    "arr = [8, 7, 7, 4, 3]\n",
    "s = pd.Series(np.asarray(arr))\n",
    "print(s)    # ans\n",
    "scaler = preprocessing.MinMaxScaler()\n",
    "scaled_values = scaler.fit_transform(s.to_numpy().reshape(-1, 1))\n",
    "scaled_values.reshape(1, -1)[0]\n",
    "\n",
    "# min_dist = df.DISTANCE.min()\n",
    "# min_stop = df.STOP_COUNT.min()\n",
    "# min_cost = df.COST.min()\n",
    "#\n",
    "# df['DISTANCE_EXP_NORM'] = df['DISTANCE'].apply(lambda x: 1.0 - math.exp(1.0 - x / min_dist))\n",
    "# df['STOP_COUNT_EXP_NORM'] = df['STOP_COUNT'].apply(lambda x: 1.0 - math.exp(1.0 - x / min_stop))\n",
    "# df['COST_EXP_NORM'] = df['COST'].apply(lambda x: 1.0 - math.exp(1.0 - x / min_cost))\n",
    "# df['SUM'] = df[['DISTANCE_EXP_NORM', 'STOP_COUNT_EXP_NORM', 'COST_EXP_NORM']].sum(axis=1)\n",
    "# df.sort_values('SUM', inplace=True)\n",
    "# df.head(3)\n",
    "\n"
   ]
  }
 ],
 "metadata": {
  "kernelspec": {
   "display_name": "Python 3",
   "language": "python",
   "name": "python3"
  },
  "language_info": {
   "codemirror_mode": {
    "name": "ipython",
    "version": 2
   },
   "file_extension": ".py",
   "mimetype": "text/x-python",
   "name": "python",
   "nbconvert_exporter": "python",
   "pygments_lexer": "ipython2",
   "version": "2.7.6"
  }
 },
 "nbformat": 4,
 "nbformat_minor": 0
}