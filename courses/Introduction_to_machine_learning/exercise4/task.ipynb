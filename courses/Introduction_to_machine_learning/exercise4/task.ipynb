{
 "cells": [
  {
   "cell_type": "code",
   "execution_count": 12,
   "metadata": {
    "collapsed": true
   },
   "outputs": [
    {
     "name": "stdout",
     "output_type": "stream",
     "text": [
      "     X   Y  Class\n",
      "id               \n",
      "1   81  83      1\n",
      "2   53  33      1\n",
      "3   10  69      1\n",
      "4   52  78      0\n",
      "5   43  79      0\n",
      "6   34  82      1\n",
      "7   75  47      1\n",
      "8   58  71      0\n",
      "9   27  59      0\n",
      "10  82  33      0\n"
     ]
    }
   ],
   "source": [
    "import pandas as pd\n",
    "train_data = pd.read_csv(\"./data/data1.csv\", delimiter=',', index_col='id')\n",
    "print(train_data)"
   ]
  },
  {
   "cell_type": "code",
   "execution_count": 13,
   "outputs": [
    {
     "name": "stdout",
     "output_type": "stream",
     "text": [
      "Метрика Евклида:\n",
      "[1]\n",
      "[[0.33333333 0.66666667]]\n",
      "(array([[13.60147051, 14.31782106, 15.29705854]]), array([[6, 1, 9]]))\n",
      "Манхэтн:\n",
      "[1]\n",
      "[[0.33333333 0.66666667]]\n",
      "(array([[17., 18., 19.]]), array([[1, 9, 6]]))\n"
     ]
    }
   ],
   "source": [
    "x = pd.DataFrame(train_data.drop(['Class'], axis=1))\n",
    "y = pd.DataFrame(train_data['Class']).values.ravel()\n",
    "\n",
    "from sklearn.neighbors import KNeighborsClassifier\n",
    "neigh = KNeighborsClassifier(n_neighbors=3, p=2)\n",
    "neigh.fit(x, y)\n",
    "\n",
    "NewObject = [67, 36]\n",
    "\n",
    "print(\"Метрика Евклида:\")\n",
    "# Назначенный класс\n",
    "print(neigh.predict([NewObject]))\n",
    "# Вероятности отнесения к классам 0 и 1 соответственно:\n",
    "print(neigh.predict_proba([NewObject]))\n",
    "# Вывод расстояний до $k$ соседей в порядке удаления\n",
    "# (первый массив — расстояния, второй — идентификаторы объектов).\n",
    "# <b>Обращаем внимание</b>, что метод возвращает индексы ближайших соседей с нуля, что не соответствует индексации в таблице.\n",
    "print(neigh.kneighbors([NewObject]))\n",
    "\n",
    "print(\"Манхэтн:\")\n",
    "neigh = KNeighborsClassifier(n_neighbors=3, p=1)\n",
    "neigh.fit(x, y)\n",
    "print(neigh.predict([NewObject]))\n",
    "print(neigh.predict_proba([NewObject]))\n",
    "print(neigh.kneighbors([NewObject]))"
   ],
   "metadata": {
    "collapsed": false,
    "pycharm": {
     "name": "#%%\n"
    }
   }
  }
 ],
 "metadata": {
  "kernelspec": {
   "display_name": "Python 3",
   "language": "python",
   "name": "python3"
  },
  "language_info": {
   "codemirror_mode": {
    "name": "ipython",
    "version": 2
   },
   "file_extension": ".py",
   "mimetype": "text/x-python",
   "name": "python",
   "nbconvert_exporter": "python",
   "pygments_lexer": "ipython2",
   "version": "2.7.6"
  }
 },
 "nbformat": 4,
 "nbformat_minor": 0
}