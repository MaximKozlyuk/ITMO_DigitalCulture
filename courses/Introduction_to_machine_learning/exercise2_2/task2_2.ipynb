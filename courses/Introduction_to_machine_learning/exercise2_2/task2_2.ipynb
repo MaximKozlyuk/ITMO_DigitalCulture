{
 "cells": [
  {
   "cell_type": "code",
   "execution_count": 21,
   "metadata": {
    "collapsed": true
   },
   "outputs": [],
   "source": [
    "import pandas as pd\n",
    "data = pd.read_csv('./data/candy-data.csv', delimiter=',', index_col='competitorname')"
   ]
  },
  {
   "cell_type": "code",
   "execution_count": 22,
   "outputs": [],
   "source": [
    "from sklearn.linear_model import LinearRegression\n",
    "train_data = data.drop(['Chewey Lemonhead Fruit Mix','Kit Kat'])\n",
    "x = pd.DataFrame(train_data.drop(['winpercent', 'Y'], axis=1))\n",
    "y = pd.DataFrame(train_data['winpercent'])\n",
    "reg = LinearRegression().fit(x, y)"
   ],
   "metadata": {
    "collapsed": false,
    "pycharm": {
     "name": "#%%\n"
    }
   }
  },
  {
   "cell_type": "code",
   "execution_count": 23,
   "outputs": [
    {
     "data": {
      "text/plain": "48.086"
     },
     "execution_count": 23,
     "metadata": {},
     "output_type": "execute_result"
    }
   ],
   "source": [
    "# Для конфет Chewey Lemonhead Fruit Mix\n",
    "fruit_mix = data.loc['Chewey Lemonhead Fruit Mix'].to_frame().T\n",
    "round(reg.predict(fruit_mix.drop(['winpercent', 'Y'], axis=1))[0][0], 3)"
   ],
   "metadata": {
    "collapsed": false,
    "pycharm": {
     "name": "#%%\n"
    }
   }
  },
  {
   "cell_type": "code",
   "execution_count": 24,
   "outputs": [
    {
     "data": {
      "text/plain": "62.236"
     },
     "execution_count": 24,
     "metadata": {},
     "output_type": "execute_result"
    }
   ],
   "source": [
    "# Для конфет Kit Kat\n",
    "kit_kat = data.loc['Kit Kat'].to_frame().T\n",
    "round(reg.predict(kit_kat.drop(['winpercent', 'Y'], axis=1))[0][0], 3)"
   ],
   "metadata": {
    "collapsed": false,
    "pycharm": {
     "name": "#%%\n"
    }
   }
  },
  {
   "cell_type": "code",
   "execution_count": 25,
   "outputs": [
    {
     "data": {
      "text/plain": "45.57"
     },
     "execution_count": 25,
     "metadata": {},
     "output_type": "execute_result"
    }
   ],
   "source": [
    "# Для конфет [0, 0, 0, 1, 0, 1, 0, 1, 1, 0.543, 0.402]\n",
    "round(reg.predict([[0, 0, 0, 1, 0, 1, 0, 1, 1, 0.543, 0.402]])[0][0], 3)\n"
   ],
   "metadata": {
    "collapsed": false,
    "pycharm": {
     "name": "#%%\n"
    }
   }
  }
 ],
 "metadata": {
  "kernelspec": {
   "display_name": "Python 3",
   "language": "python",
   "name": "python3"
  },
  "language_info": {
   "codemirror_mode": {
    "name": "ipython",
    "version": 2
   },
   "file_extension": ".py",
   "mimetype": "text/x-python",
   "name": "python",
   "nbconvert_exporter": "python",
   "pygments_lexer": "ipython2",
   "version": "2.7.6"
  }
 },
 "nbformat": 4,
 "nbformat_minor": 0
}