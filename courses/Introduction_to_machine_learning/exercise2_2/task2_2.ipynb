{
 "cells": [
  {
   "cell_type": "code",
   "execution_count": 12,
   "metadata": {
    "collapsed": true
   },
   "outputs": [],
   "source": [
    "import pandas as pd\n",
    "data = pd.read_csv('./data/candy-data2.csv', delimiter=',', index_col='competitorname')"
   ]
  },
  {
   "cell_type": "code",
   "execution_count": 13,
   "outputs": [],
   "source": [
    "from sklearn.linear_model import LinearRegression\n",
    "train_data = data.drop(['Milky Way', 'Mr Good Bar'])\n",
    "x = pd.DataFrame(train_data.drop(['winpercent', 'Y'], axis=1))\n",
    "y = pd.DataFrame(train_data['winpercent'])\n",
    "reg = LinearRegression().fit(x, y)"
   ],
   "metadata": {
    "collapsed": false,
    "pycharm": {
     "name": "#%%\n"
    }
   }
  },
  {
   "cell_type": "code",
   "execution_count": 14,
   "outputs": [
    {
     "data": {
      "text/plain": "55.544"
     },
     "execution_count": 14,
     "metadata": {},
     "output_type": "execute_result"
    }
   ],
   "source": [
    "# Для конфет Milky Way\n",
    "milky_way = data.loc['Milky Way'].to_frame().T\n",
    "round(reg.predict(milky_way.drop(['winpercent', 'Y'], axis=1))[0][0], 3)"
   ],
   "metadata": {
    "collapsed": false,
    "pycharm": {
     "name": "#%%\n"
    }
   }
  },
  {
   "cell_type": "code",
   "execution_count": 15,
   "outputs": [
    {
     "data": {
      "text/plain": "61.824"
     },
     "execution_count": 15,
     "metadata": {},
     "output_type": "execute_result"
    }
   ],
   "source": [
    "# Для конфет Mr Good Bar\n",
    "mr_good_bar = data.loc['Mr Good Bar'].to_frame().T\n",
    "round(reg.predict(mr_good_bar.drop(['winpercent', 'Y'], axis=1))[0][0], 3)"
   ],
   "metadata": {
    "collapsed": false,
    "pycharm": {
     "name": "#%%\n"
    }
   }
  },
  {
   "cell_type": "code",
   "execution_count": 16,
   "outputs": [
    {
     "data": {
      "text/plain": "63.332"
     },
     "execution_count": 16,
     "metadata": {},
     "output_type": "execute_result"
    }
   ],
   "source": [
    "# Для конфет [0, 1, 0, 1, 0, 1, 1, 0, 0, 0.93, 0.635]\n",
    "round(reg.predict([[0, 1, 0, 1, 0, 1, 1, 0, 0, 0.93, 0.635]])[0][0], 3)\n"
   ],
   "metadata": {
    "collapsed": false,
    "pycharm": {
     "name": "#%%\n"
    }
   }
  }
 ],
 "metadata": {
  "kernelspec": {
   "display_name": "Python 3",
   "language": "python",
   "name": "python3"
  },
  "language_info": {
   "codemirror_mode": {
    "name": "ipython",
    "version": 2
   },
   "file_extension": ".py",
   "mimetype": "text/x-python",
   "name": "python",
   "nbconvert_exporter": "python",
   "pygments_lexer": "ipython2",
   "version": "2.7.6"
  }
 },
 "nbformat": 4,
 "nbformat_minor": 0
}