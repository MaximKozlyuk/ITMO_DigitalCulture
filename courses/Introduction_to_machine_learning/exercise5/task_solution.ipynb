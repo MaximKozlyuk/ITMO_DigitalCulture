{
 "cells": [
  {
   "cell_type": "code",
   "execution_count": 5,
   "metadata": {
    "collapsed": true
   },
   "outputs": [],
   "source": [
    "import pandas as pd\n",
    "data = pd.read_csv(\"./data/data1.csv\", delimiter=',', index_col='Object')\n",
    "coords = data.drop('Cluster', axis=1)"
   ]
  },
  {
   "cell_type": "code",
   "execution_count": 6,
   "outputs": [
    {
     "name": "stdout",
     "output_type": "stream",
     "text": [
      "[0, 0, 2, 0, 1, 2, 2, 0, 2, 1, 1, 2, 2, 0, 2]\n"
     ]
    }
   ],
   "source": [
    "from sklearn.cluster import KMeans\n",
    "import numpy as np\n",
    "centroid = np.array([[8.5, 8.75], [10.5, 7.13], [12.0, 5.0]])\n",
    "k_means = KMeans(n_clusters=3, init=centroid, max_iter=100, n_init=1)\n",
    "model = k_means.fit(coords)\n",
    "# вывод назначенных кластеров\n",
    "obj_to_cluster = model.labels_.tolist()\n",
    "print(obj_to_cluster)"
   ],
   "metadata": {
    "collapsed": false,
    "pycharm": {
     "name": "#%%\n"
    }
   }
  },
  {
   "cell_type": "code",
   "execution_count": 7,
   "outputs": [
    {
     "name": "stdout",
     "output_type": "stream",
     "text": [
      "[[ 3.73630834 10.9188929  14.59661689]\n",
      " [ 6.02992537  6.47216261  8.49729849]\n",
      " [12.44829306  5.67646212  5.16068339]\n",
      " [ 2.0880613   6.87184271 10.3746158 ]\n",
      " [ 8.77268488  1.49071198  2.68404203]\n",
      " [14.7566934   7.45355992  4.87601376]\n",
      " [15.84171708  8.49836586  4.63570878]\n",
      " [ 3.28024389 10.67187373 14.54759956]\n",
      " [10.89770618  3.72677996  0.45175395]\n",
      " [ 6.70522185  2.74873708  6.5293685 ]\n",
      " [ 7.4404301   1.88561808  3.97183965]\n",
      " [10.09752445  6.87184271  6.34066886]\n",
      " [ 9.65194281  3.34995854  2.18529408]\n",
      " [ 8.93084542  9.80929265 13.42933129]\n",
      " [ 9.62081078  4.92160769  4.18208033]]\n"
     ]
    }
   ],
   "source": [
    "all_distances = k_means.fit_transform(coords)\n",
    "print(all_distances)"
   ],
   "metadata": {
    "collapsed": false,
    "pycharm": {
     "name": "#%%\n"
    }
   }
  },
  {
   "cell_type": "code",
   "execution_count": 8,
   "outputs": [
    {
     "name": "stdout",
     "output_type": "stream",
     "text": [
      "4.813076866197264\n"
     ]
    }
   ],
   "source": [
    "# 8.045 - false\n",
    "# Определить среднее расстояний между объектами и центроидом, отнесенных к кластеру 0.\n",
    "avg = 0.0\n",
    "count = 0.0\n",
    "for i in range(14):\n",
    "    if obj_to_cluster[i] == 0:\n",
    "        avg += all_distances[i][0]\n",
    "        count += 1\n",
    "print(avg / count)\n"
   ],
   "metadata": {
    "collapsed": false,
    "pycharm": {
     "name": "#%%\n"
    }
   }
  }
 ],
 "metadata": {
  "kernelspec": {
   "display_name": "Python 3",
   "language": "python",
   "name": "python3"
  },
  "language_info": {
   "codemirror_mode": {
    "name": "ipython",
    "version": 2
   },
   "file_extension": ".py",
   "mimetype": "text/x-python",
   "name": "python",
   "nbconvert_exporter": "python",
   "pygments_lexer": "ipython2",
   "version": "2.7.6"
  }
 },
 "nbformat": 4,
 "nbformat_minor": 0
}