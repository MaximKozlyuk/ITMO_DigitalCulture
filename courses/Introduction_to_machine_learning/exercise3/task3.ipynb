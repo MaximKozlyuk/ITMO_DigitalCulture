{
 "cells": [
  {
   "cell_type": "code",
   "execution_count": 55,
   "metadata": {
    "collapsed": true,
    "pycharm": {
     "name": "#%%\n"
    }
   },
   "outputs": [],
   "source": [
    "import pandas as pd\n",
    "data = pd.read_csv('./data/2/data2.csv', delimiter=',', index_col='competitorname')\n",
    "test_data = pd.read_csv('./data/2/test_data2.csv', delimiter=',', index_col='competitorname')\n",
    "\n",
    "# В качестве тренировочного набора данных используйте данные из файла,\n",
    "# за иключением следующих конфет:\n",
    "# Candy Corn, Haribo Twin Snakes, Peanut butter M&Ms.\n",
    "train_data = data.drop(['Candy Corn', 'Haribo Twin Snakes', 'Peanut butter M&Ms'])\n",
    "\n",
    "# В качестве предикторов выступают поля:\n",
    "# chocolate, fruity, caramel, peanutyalmondy, nougat, crispedricewafer, hard, bar, pluribus, sugarpercent, pricepercent,\n",
    "# отклик — Y.\n",
    "x = pd.DataFrame(train_data.drop(['winpercent', 'Y'], axis=1))\n",
    "y = pd.DataFrame(train_data['Y'])"
   ]
  },
  {
   "cell_type": "code",
   "execution_count": 56,
   "outputs": [
    {
     "name": "stdout",
     "output_type": "stream",
     "text": [
      "Вероятности отнесения конфет к 1 классу:\n",
      "0.5272638995965085\n",
      "0.3487162673057237\n"
     ]
    }
   ],
   "source": [
    "from sklearn.linear_model import LogisticRegression\n",
    "reg = LogisticRegression(random_state=2019, solver='lbfgs').fit(x, y.values.ravel())\n",
    "\n",
    "# test data:\n",
    "# Werthers Original Caramel,1,0,1,0,0,0,1,0,0,0.186,0.26699999,0\n",
    "# Super Bubble,0,1,0,0,0,0,0,0,0,0.162,0.116,0\n",
    "candy_1 = [1,0,1,0,0,0,1,0,0,0.186,0.26699999]\n",
    "candy_2 = [0,1,0,0,0,0,0,0,0,0.162,0.116]\n",
    "\n",
    "print('Вероятности отнесения конфет к 1 классу:')\n",
    "print(reg.predict_proba([candy_1])[0][1])\n",
    "print(reg.predict_proba([candy_2])[0][1])"
   ],
   "metadata": {
    "collapsed": false,
    "pycharm": {
     "name": "#%%\n"
    }
   }
  },
  {
   "cell_type": "code",
   "execution_count": 57,
   "outputs": [
    {
     "name": "stdout",
     "output_type": "stream",
     "text": [
      "AUC =  0.6499999999999999\n",
      "Recall =  0.6\n",
      "Precision =  0.5\n"
     ]
    }
   ],
   "source": [
    "X_test = pd.DataFrame(test_data.drop(['Y'], axis=1))\n",
    "\n",
    "Y_pred = reg.predict(X_test)\n",
    "Y_true = (test_data['Y'].to_frame().T).values.ravel()\n",
    "\n",
    "from sklearn import metrics\n",
    "fpr, tpr, thresholds = metrics.roc_curve(Y_true, Y_pred)\n",
    "print(\"AUC = \", metrics.auc(fpr, tpr))\n",
    "\n",
    "print(\"Recall = \", metrics.recall_score(Y_true, Y_pred))\n",
    "print(\"Precision = \", metrics.precision_score(Y_true, Y_pred))\n",
    "\n"
   ],
   "metadata": {
    "collapsed": false,
    "pycharm": {
     "name": "#%%\n"
    }
   }
  }
 ],
 "metadata": {
  "kernelspec": {
   "display_name": "Python 3",
   "language": "python",
   "name": "python3"
  },
  "language_info": {
   "codemirror_mode": {
    "name": "ipython",
    "version": 2
   },
   "file_extension": ".py",
   "mimetype": "text/x-python",
   "name": "python",
   "nbconvert_exporter": "python",
   "pygments_lexer": "ipython2",
   "version": "2.7.6"
  }
 },
 "nbformat": 4,
 "nbformat_minor": 0
}